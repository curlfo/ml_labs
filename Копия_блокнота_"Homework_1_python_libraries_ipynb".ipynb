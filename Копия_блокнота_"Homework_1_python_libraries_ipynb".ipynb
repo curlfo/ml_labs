{
  "nbformat": 4,
  "nbformat_minor": 0,
  "metadata": {
    "kernel_info": {
      "name": "py36"
    },
    "kernelspec": {
      "display_name": "Python 3",
      "language": "python",
      "name": "python3"
    },
    "language_info": {
      "codemirror_mode": {
        "name": "ipython",
        "version": 3
      },
      "file_extension": ".py",
      "mimetype": "text/x-python",
      "name": "python",
      "nbconvert_exporter": "python",
      "pygments_lexer": "ipython3",
      "version": "3.6.7"
    },
    "nteract": {
      "version": "0.11.6"
    },
    "colab": {
      "name": "Копия блокнота \"Homework_1_python_libraries.ipynb\"",
      "provenance": [],
      "collapsed_sections": [],
      "include_colab_link": true
    }
  },
  "cells": [
    {
      "cell_type": "markdown",
      "metadata": {
        "id": "view-in-github",
        "colab_type": "text"
      },
      "source": [
        "<a href=\"https://colab.research.google.com/github/curlfo/ml_labs/blob/main/%D0%9A%D0%BE%D0%BF%D0%B8%D1%8F_%D0%B1%D0%BB%D0%BE%D0%BA%D0%BD%D0%BE%D1%82%D0%B0_%22Homework_1_python_libraries_ipynb%22.ipynb\" target=\"_parent\"><img src=\"https://colab.research.google.com/assets/colab-badge.svg\" alt=\"Open In Colab\"/></a>"
      ]
    },
    {
      "cell_type": "markdown",
      "metadata": {
        "id": "jCyPzBV7thss"
      },
      "source": [
        "# Лабораторная работа №1\n",
        "\n",
        "**Темы:**\n",
        "\n",
        "*   Pandas\n",
        "*   Numpy\n",
        "*   Matplotlib\n",
        "\n",
        "**Примечания:**\n",
        "\n",
        "*   Максимальное число баллов за работу: 10\n",
        "*   \"Похожие\" решения получают штраф 50% от набранной суммы баллов\n",
        "*   Округление баллов происходит на основе функции round()\n",
        "*   Видеокарта: не требуется\n"
      ]
    },
    {
      "cell_type": "code",
      "metadata": {
        "id": "vdArk8JLthst",
        "colab": {
          "base_uri": "https://localhost:8080/"
        },
        "outputId": "1096b5fc-8cec-429d-ed81-2a4b428a3964"
      },
      "source": [
        "%pylab inline  \n",
        "\n",
        "import pandas as pd\n",
        "import numpy as np\n",
        "from matplotlib import pyplot as plt"
      ],
      "execution_count": 2,
      "outputs": [
        {
          "output_type": "stream",
          "name": "stdout",
          "text": [
            "Populating the interactive namespace from numpy and matplotlib\n"
          ]
        }
      ]
    },
    {
      "cell_type": "markdown",
      "metadata": {
        "id": "WVdLtmrvHAek"
      },
      "source": [
        "## 1. Pandas"
      ]
    },
    {
      "cell_type": "markdown",
      "metadata": {
        "id": "z8OYcj9GTiwE"
      },
      "source": [
        "**Полезные ссылки:**\n",
        "\n",
        "* [Документация](http://pandas.pydata.org/pandas-docs/stable/index.html)\n",
        "* [Примеры](http://pandas.pydata.org/pandas-docs/stable/10min.html)\n",
        "* [Примеры](http://nbviewer.jupyter.org/github/justmarkham/pandas-videos/blob/master/pandas.ipynb)\n",
        "\n",
        "**Примечания:**\n",
        "\n",
        "*   Запрещено использовать циклы\n",
        "\n"
      ]
    },
    {
      "cell_type": "markdown",
      "metadata": {
        "id": "Vb9WV5GOthst"
      },
      "source": [
        "Скачайте данные:"
      ]
    },
    {
      "cell_type": "code",
      "metadata": {
        "id": "svvSped5HH90"
      },
      "source": [
        "!wget \"https://www.dropbox.com/s/5qq94wzmbw4e54r/data.csv?dl=0\" -O \"data.csv\""
      ],
      "execution_count": null,
      "outputs": []
    },
    {
      "cell_type": "markdown",
      "metadata": {
        "id": "N1eMnMtbthst"
      },
      "source": [
        "#### 1.1  [0.25 баллов] \n",
        "Откройте скачанный файл с данными. Выведите первые и последние 10 строк. Что вы можете сказать про данные? Сколько сэмплов и признаков в датасете? "
      ]
    },
    {
      "cell_type": "code",
      "metadata": {
        "id": "anp4yxFSthst"
      },
      "source": [
        "### YOUR CODE HERE\n",
        "data = pd.read_csv(\"data.csv\")\n",
        "data.head(n=10)"
      ],
      "execution_count": null,
      "outputs": []
    },
    {
      "cell_type": "code",
      "metadata": {
        "id": "BrfIAFHQzabm"
      },
      "source": [
        "data.tail(n=10)"
      ],
      "execution_count": null,
      "outputs": []
    },
    {
      "cell_type": "code",
      "metadata": {
        "id": "wZIyaltvzeAd"
      },
      "source": [
        "print(\"there're {0} samples and {1} markers in data\".format(len(data), len(data.columns)))"
      ],
      "execution_count": null,
      "outputs": []
    },
    {
      "cell_type": "markdown",
      "metadata": {
        "id": "TwTxS2rTthst"
      },
      "source": [
        "#### 1.2 [0.25 баллов]\n",
        "1. Сколько заказов попало в выборку?\n",
        "2. Сколько уникальных категорий товара (item_name) было куплено?"
      ]
    },
    {
      "cell_type": "code",
      "metadata": {
        "id": "ZEL-LCE1thsu"
      },
      "source": [
        "### YOUR CODE HERE\n",
        "len(data.order_id.unique())"
      ],
      "execution_count": null,
      "outputs": []
    },
    {
      "cell_type": "code",
      "metadata": {
        "id": "uakq7DV30GU-"
      },
      "source": [
        "len(data.item_name.unique())"
      ],
      "execution_count": null,
      "outputs": []
    },
    {
      "cell_type": "markdown",
      "metadata": {
        "id": "-ZjEgFwsthsu"
      },
      "source": [
        "#### 1.3 [0.25 баллов] \n",
        "Есть ли в данных пропуски? Если да, то сколько строк и сколько столбцов их содержат? Какие это столбцы?"
      ]
    },
    {
      "cell_type": "code",
      "metadata": {
        "id": "gv1FBPBrthsu"
      },
      "source": [
        "### YOUR CODE HERE\n",
        "data.isnull().sum()"
      ],
      "execution_count": null,
      "outputs": []
    },
    {
      "cell_type": "markdown",
      "metadata": {
        "id": "BQeEENTTthsu"
      },
      "source": [
        "Заполните пропуски пустой строкой для строковых колонок и нулём для числовых. Проверьте, действительно ли пропусков не осталось."
      ]
    },
    {
      "cell_type": "code",
      "metadata": {
        "id": "jqFmcp13thsu"
      },
      "source": [
        "### YOUR CODE HERE\n",
        "data = data.fillna(value='')\n",
        "data.isnull().sum()"
      ],
      "execution_count": null,
      "outputs": []
    },
    {
      "cell_type": "markdown",
      "metadata": {
        "id": "67gb-ZLZthsv"
      },
      "source": [
        "#### 1.4 [0.25 баллов] \n",
        "Какого типа колонка с ценой товара (item_price)? Создайте новую колонку item_price_num так, чтобы в ней цена была числом."
      ]
    },
    {
      "cell_type": "code",
      "metadata": {
        "id": "Uk6nUO_Uthsv"
      },
      "source": [
        "print(data.item_price.dtypes)"
      ],
      "execution_count": null,
      "outputs": []
    },
    {
      "cell_type": "code",
      "metadata": {
        "id": "3hkTJRPA1wLh"
      },
      "source": [
        "tmp = pd.to_numeric(data.item_price.str.replace('$', ''))\n",
        "data['item_price_num'] = tmp\n",
        "print(data.item_price_num.dtypes)"
      ],
      "execution_count": null,
      "outputs": []
    },
    {
      "cell_type": "markdown",
      "metadata": {
        "id": "u-QGS4zjthsv"
      },
      "source": [
        "Какая средняя, минимальная и максимальная цена у товара (одной единицы)? "
      ]
    },
    {
      "cell_type": "code",
      "metadata": {
        "id": "w9uihKIXthsv"
      },
      "source": [
        "### YOUR CODE HERE\n",
        "tmp = pd.DataFrame(data, columns=['item_name', 'item_price_num', 'quantity'])\n",
        "tmp = tmp.drop_duplicates(subset='item_name')\n",
        "tmp['item_price_num'] /= tmp['quantity']\n",
        "tmp.item_price_num.mean()"
      ],
      "execution_count": null,
      "outputs": []
    },
    {
      "cell_type": "code",
      "metadata": {
        "id": "uSx509-N5FNf"
      },
      "source": [
        "tmp.item_price_num.min()"
      ],
      "execution_count": null,
      "outputs": []
    },
    {
      "cell_type": "code",
      "metadata": {
        "id": "mtNXN3b45KCI"
      },
      "source": [
        "tmp.item_price_num.max()"
      ],
      "execution_count": null,
      "outputs": []
    },
    {
      "cell_type": "markdown",
      "metadata": {
        "id": "hiMbsgXEthsv"
      },
      "source": [
        "Удалите старую колонку item_price."
      ]
    },
    {
      "cell_type": "code",
      "metadata": {
        "id": "Xej_8krithsv"
      },
      "source": [
        "### YOUR CODE HERE\n",
        "data.drop('item_price', axis=1)"
      ],
      "execution_count": null,
      "outputs": []
    },
    {
      "cell_type": "markdown",
      "metadata": {
        "id": "vtFnSCSdthsv"
      },
      "source": [
        "#### 1.5 [0.5 баллов] \n",
        "Какие 5 товаров были самыми дешёвыми и самыми дорогими (по item_name)?\n",
        "\n",
        "Примечание: не забудьте избавиться от дубликатов (drop_duplicates) и учесть количество позиций в заказе."
      ]
    },
    {
      "cell_type": "code",
      "metadata": {
        "id": "FMSra5sAthsw"
      },
      "source": [
        "### YOUR CODE HERE\n",
        "tmp = tmp.sort_values(by='item_price_num')\n",
        "tmp.head()"
      ],
      "execution_count": null,
      "outputs": []
    },
    {
      "cell_type": "code",
      "metadata": {
        "id": "2Iu6t16V-Uaj"
      },
      "source": [
        "tmp.tail()"
      ],
      "execution_count": null,
      "outputs": []
    },
    {
      "cell_type": "markdown",
      "metadata": {
        "id": "5jya5GIuthsw"
      },
      "source": [
        "#### 1.6 [0.25 баллов] \n",
        "Сколько раз клиенты покупали не менее двух Bottled Water?"
      ]
    },
    {
      "cell_type": "code",
      "metadata": {
        "id": "UNCsKNBlthsw"
      },
      "source": [
        "### YOUR CODE HERE\n",
        "len(data.loc[(data.item_name == 'Bottled Water') & (data.quantity >= 2)])"
      ],
      "execution_count": null,
      "outputs": []
    },
    {
      "cell_type": "markdown",
      "metadata": {
        "id": "Eeqx0Jnpthsw"
      },
      "source": [
        "#### 1.7 [0.5 баллов] \n",
        "Определите среднюю стоимость заказа и среднее число позиций в заказе.\n",
        "\n",
        "Примечение: воспользуйтесь группировкой (groupby)."
      ]
    },
    {
      "cell_type": "code",
      "metadata": {
        "id": "vGUXtX9xthsw"
      },
      "source": [
        "### YOUR CODE HERE\n",
        "tmp = pd.DataFrame(data, columns=['order_id', 'item_price_num', 'quantity'])\n",
        "tmp = tmp.groupby('order_id').sum()\n",
        "tmp.mean()"
      ],
      "execution_count": null,
      "outputs": []
    },
    {
      "cell_type": "markdown",
      "metadata": {
        "id": "urMa9vgRthsw"
      },
      "source": [
        "#### 1.8 [0.25 баллов] \n",
        "Сколько заказов содержали ровно 1 товар?"
      ]
    },
    {
      "cell_type": "code",
      "metadata": {
        "id": "6d5HIOx8thsw"
      },
      "source": [
        "### YOUR CODE HERE\n",
        "len(tmp.loc[tmp.quantity == 1])"
      ],
      "execution_count": null,
      "outputs": []
    },
    {
      "cell_type": "markdown",
      "metadata": {
        "id": "J9JXYgNFthsx"
      },
      "source": [
        "#### 1.9 [0.25 баллов] \n",
        "Какая самая популярная категория товара? "
      ]
    },
    {
      "cell_type": "code",
      "metadata": {
        "id": "bd5i1Ke8thsx",
        "colab": {
          "base_uri": "https://localhost:8080/",
          "height": 112
        },
        "outputId": "041c931b-2a88-41ad-db0a-834a572332bb"
      },
      "source": [
        "### YOUR CODE HERE\n",
        "tmp = pd.DataFrame(data, columns=['item_name', 'quantity'])\n",
        "tmp = tmp.groupby('item_name').sum().sort_values(by='quantity', ascending=False)\n",
        "tmp.head(n=1)"
      ],
      "execution_count": 95,
      "outputs": [
        {
          "output_type": "execute_result",
          "data": {
            "text/html": [
              "<div>\n",
              "<style scoped>\n",
              "    .dataframe tbody tr th:only-of-type {\n",
              "        vertical-align: middle;\n",
              "    }\n",
              "\n",
              "    .dataframe tbody tr th {\n",
              "        vertical-align: top;\n",
              "    }\n",
              "\n",
              "    .dataframe thead th {\n",
              "        text-align: right;\n",
              "    }\n",
              "</style>\n",
              "<table border=\"1\" class=\"dataframe\">\n",
              "  <thead>\n",
              "    <tr style=\"text-align: right;\">\n",
              "      <th></th>\n",
              "      <th>quantity</th>\n",
              "    </tr>\n",
              "    <tr>\n",
              "      <th>item_name</th>\n",
              "      <th></th>\n",
              "    </tr>\n",
              "  </thead>\n",
              "  <tbody>\n",
              "    <tr>\n",
              "      <th>Chicken Bowl</th>\n",
              "      <td>761</td>\n",
              "    </tr>\n",
              "  </tbody>\n",
              "</table>\n",
              "</div>"
            ],
            "text/plain": [
              "              quantity\n",
              "item_name             \n",
              "Chicken Bowl       761"
            ]
          },
          "metadata": {},
          "execution_count": 95
        }
      ]
    },
    {
      "cell_type": "markdown",
      "metadata": {
        "id": "M1pwgVVCthsx"
      },
      "source": [
        "#### 1.10 [0.5 баллов] \n",
        "Какие виды Burrito существуют? Какой из них лучше всего продается? Какой из них самый дешевый?"
      ]
    },
    {
      "cell_type": "code",
      "metadata": {
        "id": "uXWYOX9ithsx"
      },
      "source": [
        "### YOUR CODE HERE"
      ],
      "execution_count": 22,
      "outputs": []
    },
    {
      "cell_type": "markdown",
      "metadata": {
        "collapsed": true,
        "id": "-MYMu3Evthsx"
      },
      "source": [
        "#### 1.11 [0.5 баллов] \n",
        "В каком проценте заказов есть товар, который стоит более половины суммы всего чека?"
      ]
    },
    {
      "cell_type": "code",
      "metadata": {
        "id": "Znh4jwpwthsy"
      },
      "source": [
        "### YOUR CODE HERE"
      ],
      "execution_count": 23,
      "outputs": []
    },
    {
      "cell_type": "markdown",
      "metadata": {
        "id": "R3Ii18Lathsy"
      },
      "source": [
        "#### 1.12 [0.5 баллов] \n",
        "Предположим, что Diet Coke (choice_description), который стоил $1.25, мог бы стоить 1.5. Измените данные в таблице и посчитайте возможную прибыль (относительно текущей суммы продаж) за всю историю заказов."
      ]
    },
    {
      "cell_type": "code",
      "metadata": {
        "id": "Pbwb-J1jthsy"
      },
      "source": [
        "### YOUR CODE HERE"
      ],
      "execution_count": 24,
      "outputs": []
    },
    {
      "cell_type": "markdown",
      "metadata": {
        "id": "oKhvzmtnTZnS"
      },
      "source": [
        "## 2. Numpy"
      ]
    },
    {
      "cell_type": "markdown",
      "metadata": {
        "id": "Tu6We8VKi45K"
      },
      "source": [
        "**Полезные ссылки:**\n",
        "\n",
        "* [Документация](https://numpy.org/doc/)\n",
        "* [Примеры](https://cs231n.github.io/python-numpy-tutorial/)\n",
        "\n",
        "**Примечания:**\n",
        "\n",
        "*   Запрещено использовать циклы\n",
        "\n"
      ]
    },
    {
      "cell_type": "markdown",
      "metadata": {
        "id": "uH_KRWJ9W9gj"
      },
      "source": [
        "#### 2.1 [0.25 баллов] \n",
        "Разделите отрезок $[0; 1]$ на 10 равных частей и создайте массив точек разбиения (включая границы)."
      ]
    },
    {
      "cell_type": "code",
      "metadata": {
        "id": "UFov5MWPTbkp"
      },
      "source": [
        "### YOUR CODE HERE\n",
        "ar = np.linspace(0, 1, 10)"
      ],
      "execution_count": null,
      "outputs": []
    },
    {
      "cell_type": "markdown",
      "metadata": {
        "id": "GuUODJeLaBCj"
      },
      "source": [
        "#### 2.2 [0.25 баллов] \n",
        "Создайте массив длины 3n, заполненный циклическим шаблоном 1, 2, 3."
      ]
    },
    {
      "cell_type": "code",
      "metadata": {
        "id": "aB9oHbP7aCS0"
      },
      "source": [
        "### YOUR CODE HERE\n",
        "n=10\n",
        "array = [1, 2, 3]\n",
        "np.tile(array, 3*n)"
      ],
      "execution_count": null,
      "outputs": []
    },
    {
      "cell_type": "markdown",
      "metadata": {
        "id": "jIlIYV1jaRe-"
      },
      "source": [
        "#### 2.3 [0.25 баллов] \n",
        "Создайте массив из первых 50 нечетных чисел."
      ]
    },
    {
      "cell_type": "code",
      "metadata": {
        "id": "DQ6UFiXIaY9E"
      },
      "source": [
        "### YOUR CODE HERE\n",
        "np.arange(1, 101, 2)"
      ],
      "execution_count": null,
      "outputs": []
    },
    {
      "cell_type": "markdown",
      "metadata": {
        "id": "Bg-iy20laZ_K"
      },
      "source": [
        "#### 2.4 [0.25 баллов] \n",
        "Создайте матрицу 8x8, заполненную числом 1, и сделайте вокруг нее границу из чисел -1."
      ]
    },
    {
      "cell_type": "code",
      "metadata": {
        "id": "4jeV81Zra0MO"
      },
      "source": [
        "### YOUR CODE HERE"
      ],
      "execution_count": 28,
      "outputs": []
    },
    {
      "cell_type": "markdown",
      "metadata": {
        "id": "G4O9jaIqa1gh"
      },
      "source": [
        "#### 2.5 [0.25 баллов] \n",
        "Создайте матрицу - шахматную доску размера 8x8, заполненную нулями и единицами.\n",
        "\n",
        "Примечание: воспользуйтесь функцией np.tile."
      ]
    },
    {
      "cell_type": "code",
      "metadata": {
        "id": "p1FQjnkZbwKU"
      },
      "source": [
        "### YOUR CODE HERE\n",
        "array = np.tile([0, 1], (8, 4))\n",
        "array"
      ],
      "execution_count": null,
      "outputs": []
    },
    {
      "cell_type": "markdown",
      "metadata": {
        "id": "2oa__x7lb07i"
      },
      "source": [
        "#### 2.6 [0.25 баллов] \n",
        "Удвойте каждую клетку предыдущей матрицы в ширину и в высоту.\n",
        "\n",
        "Примечание: воспользуйтесь функцией np.repeat."
      ]
    },
    {
      "cell_type": "code",
      "metadata": {
        "id": "aTq60F2icJK8"
      },
      "source": [
        "### YOUR CODE HERE\n",
        "array = np.repeat(array, 2, axis=1)\n",
        "np.repeat(array, 2, axis=0)"
      ],
      "execution_count": null,
      "outputs": []
    },
    {
      "cell_type": "markdown",
      "metadata": {
        "id": "3xPfmJercjX8"
      },
      "source": [
        "#### 2.7 [0.25 баллов] \n",
        "Для массива точек из задания 2.1 посчитайте $sin(x), cos(x)$. Полученные массивы скомбинируйте в матрицу размера $(10, 2)$.\n",
        "\n",
        "Примечание: воспользуйтесь функцией np.stack или подобными."
      ]
    },
    {
      "cell_type": "code",
      "metadata": {
        "id": "cW9LxNmUc93E"
      },
      "source": [
        "### YOUR CODE \n"
      ],
      "execution_count": null,
      "outputs": []
    },
    {
      "cell_type": "markdown",
      "metadata": {
        "id": "A_jeFIzQdBu5"
      },
      "source": [
        "#### 2.8 [0.5 баллов] \n",
        "Сгенерируйте матрицу 4x4 из стандартного нормального распределения. Отсортируйте строки матрицы (не создавая новых массивов) по последнему столбцу по неубыванию.\n",
        "\n",
        "Примечание: воспользуйтесь модулем np.random и функцией np.argmax."
      ]
    },
    {
      "cell_type": "code",
      "metadata": {
        "id": "_bxf65WZdBD_"
      },
      "source": [
        "### YOUR CODE HERE"
      ],
      "execution_count": 32,
      "outputs": []
    },
    {
      "cell_type": "markdown",
      "metadata": {
        "id": "1agvJWCifZ_d"
      },
      "source": [
        "#### 2.9 [0.25 баллов] \n",
        "Создайте функцию check_arrays_equal, принимающую на вход два numpy массива любой размерности и возвращающей True, если они целиком совпадают, и False - иначе. В случае несовпадения размерностей функция должна выбрасывать исключение. Запустите функцию на тестовых примерах. "
      ]
    },
    {
      "cell_type": "code",
      "metadata": {
        "id": "f_pEXZtFf-lj"
      },
      "source": [
        "### YOUR CODE HERE"
      ],
      "execution_count": 33,
      "outputs": []
    },
    {
      "cell_type": "markdown",
      "metadata": {
        "id": "hJ835de6gJtJ"
      },
      "source": [
        "#### 2.10 [0.5 баллов] \n",
        "Создайте функцию normalized, которая получает на вход матрицу и возвращает ее измененную копию: вычитает из столбца его среднее значение и делит столбец на стандартное отклонение. При попытке деления на ноль возвращать None. Функция не должна менять исходный массив. Запустите функцию на тестовых примерах."
      ]
    },
    {
      "cell_type": "code",
      "metadata": {
        "id": "ma_64i9tgsgC"
      },
      "source": [
        "### YOUR CODE HERE"
      ],
      "execution_count": 34,
      "outputs": []
    },
    {
      "cell_type": "markdown",
      "metadata": {
        "id": "olYv9V9thIPo"
      },
      "source": [
        "#### 2.11 [0.25 баллов] \n",
        "Создайте функцию count_diag_nonzeros, принимающую на вход матрицу и возвращающую количество ненулевых элементов главной диагонали. Если матрица на входе не квадратная - выбрасывать исключение. Если ненулевых элементов нет - возвращать None. Запустите функцию на тестовых примерах."
      ]
    },
    {
      "cell_type": "code",
      "metadata": {
        "id": "IkLLTJ3EiMjU"
      },
      "source": [
        "### YOUR CODE HERE"
      ],
      "execution_count": 35,
      "outputs": []
    },
    {
      "cell_type": "markdown",
      "metadata": {
        "id": "HYu2vW7wkEIV"
      },
      "source": [
        "#### 2.12 [0.5 баллов] \n",
        "Создайте функцию multiply, принимающую на вход две матрицы и возвращающую их произведение. Предварительно должна осуществляться проверка на соответствие размерностей. В случае несоответствия - выбрасывать исключение. Запустите функцию на тестовых примерах."
      ]
    },
    {
      "cell_type": "code",
      "metadata": {
        "id": "_G2xX-fnlvI4"
      },
      "source": [
        "### YOUR CODE HERE"
      ],
      "execution_count": 36,
      "outputs": []
    },
    {
      "cell_type": "markdown",
      "metadata": {
        "id": "-Shdq7MDthsy"
      },
      "source": [
        "## 3. Matplotlib"
      ]
    },
    {
      "cell_type": "markdown",
      "metadata": {
        "id": "yZZUzzlsmKc7"
      },
      "source": [
        "**Полезные ссылки:**\n",
        "\n",
        "* [Документация](https://matplotlib.org/stable/users/index.html)\n",
        "\n",
        "**Примечания:**\n",
        "\n",
        "Вам предстоит использовать наиболее популярные типы графиков в Matplotlib, а именно: plot, hist, bar, scatter. Для каждой визуализации также вы должны добавить название (plt.title), подписи осей (plt.xlabel, plt.ylabel), сетку (plt.grid), а при наличии нескольких графиков на одной картинке - легенду (plt.legend), которая строится на основе названий графиков (атрибут label). Также выбирайте подходящий размер визуализации (plt.figure(figsize=...)).\n",
        "При невыполнении данных требований сумма баллов за задание снижается на 50%.\n",
        "\n"
      ]
    },
    {
      "cell_type": "markdown",
      "metadata": {
        "id": "LGA_ZU9Wthsz"
      },
      "source": [
        "Будем работать с уже знакомым датасетом заказов в фаст-фуд ресторане. Добавим новый признак - дату покупки:"
      ]
    },
    {
      "cell_type": "code",
      "metadata": {
        "id": "0rkwbGXXoCK9"
      },
      "source": [
        "df = data ### YOUR CODE HERE"
      ],
      "execution_count": 38,
      "outputs": []
    },
    {
      "cell_type": "code",
      "metadata": {
        "id": "2Jm-VPe9thsz"
      },
      "source": [
        "import datetime\n",
        "\n",
        "start = datetime.datetime(2021, 1, 1)\n",
        "end = datetime.datetime(2021, 1, 31)\n",
        "delta_seconds = int((end - start).total_seconds())\n",
        "\n",
        "dates = pd.DataFrame(index=df.order_id.unique())\n",
        "dates['date'] = [\n",
        "    (start + datetime.timedelta(seconds=random.randint(0, delta_seconds))).strftime('%Y-%m-%d')\n",
        "    for _ in range(df.order_id.nunique())]\n",
        "\n",
        "df['date'] = df.order_id.map(dates['date'])"
      ],
      "execution_count": 39,
      "outputs": []
    },
    {
      "cell_type": "markdown",
      "metadata": {
        "id": "Vmo6LRpJoSpl"
      },
      "source": [
        "#### 3.1 [0.5 баллов] \n",
        "Постройте гистограмму распределения сумм покупок и гистограмму распределения средних цен отдельных позиций (item_name).\n",
        "\n",
        "Примечание: постройте графики рядом, используя plt.subplot / plt.subplots."
      ]
    },
    {
      "cell_type": "code",
      "metadata": {
        "id": "ynJroNrdthsz"
      },
      "source": [
        "### YOUR CODE HERE"
      ],
      "execution_count": null,
      "outputs": []
    },
    {
      "cell_type": "markdown",
      "metadata": {
        "id": "P9vxZKxathsz"
      },
      "source": [
        "#### 3.2 [0.5 баллов] \n",
        "Постройте график зависимости суммы покупок от дней (даты)."
      ]
    },
    {
      "cell_type": "code",
      "metadata": {
        "id": "_XFP3oKgthsz"
      },
      "source": [
        "### YOUR CODE HERE"
      ],
      "execution_count": null,
      "outputs": []
    },
    {
      "cell_type": "markdown",
      "metadata": {
        "id": "mZ-ei_6tths0"
      },
      "source": [
        "#### 3.3 [0.5 баллов]\n",
        "Постройте график распределения средних сумм покупок по дням недели.\n",
        "\n",
        "Примечание: воспользуйтесь plt.bar."
      ]
    },
    {
      "cell_type": "code",
      "metadata": {
        "id": "Bcz0TL1Sths0"
      },
      "source": [
        "### YOUR CODE HERE"
      ],
      "execution_count": null,
      "outputs": []
    },
    {
      "cell_type": "markdown",
      "metadata": {
        "id": "h-eZRakrths0"
      },
      "source": [
        "#### 3.4 [0.5 балла] \n",
        "Постройте график зависимости денег за товар от купленного количества.\n",
        "\n",
        "Примечание: воспользуйтесь plt.scatter."
      ]
    },
    {
      "cell_type": "code",
      "metadata": {
        "id": "yvwJjf55ths0"
      },
      "source": [
        "### YOUR CODE HERE"
      ],
      "execution_count": null,
      "outputs": []
    }
  ]
}